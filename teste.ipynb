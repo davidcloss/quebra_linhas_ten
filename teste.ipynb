{
 "cells": [
  {
   "cell_type": "code",
   "execution_count": 8,
   "id": "22587d0e-0bee-4f95-af2d-951b18885aba",
   "metadata": {},
   "outputs": [
    {
     "name": "stdout",
     "output_type": "stream",
     "text": [
      "23 arquivo(s) CSV criados na pasta '/home/david/Documentos/GitHub/quebra_linhas_ten/Base XP - Opea'.\n",
      "24 arquivo(s) CSV criados na pasta '/home/david/Documentos/GitHub/quebra_linhas_ten/Base XP - Ecoagro'.\n"
     ]
    }
   ],
   "source": [
    "import pandas as pd\n",
    "import os\n",
    "import csv\n",
    "\n",
    "def convert_scientific_to_int(df, column_name):\n",
    "    # Verifica se a coluna existe no DataFrame\n",
    "    if column_name in df.columns:\n",
    "        try:\n",
    "            # Converte a coluna para string e substitui vírgulas por pontos\n",
    "            df[column_name] = df[column_name].astype(str).str.replace(',', '.').astype(float).astype(int)\n",
    "        except ValueError:\n",
    "            print(f\"Não foi possível converter a coluna {column_name} para inteiro.\")\n",
    "    return df\n",
    "\n",
    "def split_and_save(df, lines_per_file, arquivo):\n",
    "    # Converte a coluna 'CPF/CNPJ' de notação científica para inteiros\n",
    "    df = convert_scientific_to_int(df, 'CPF/CNPJ')\n",
    "\n",
    "    # Remove duplicados com base na coluna 'CPF/CNPJ'\n",
    "    df = df.drop_duplicates(subset='CPF/CNPJ')\n",
    "\n",
    "    # Cria a pasta com o nome da variável `arquivo`\n",
    "    output_dir = os.path.join(os.getcwd(), arquivo)\n",
    "    os.makedirs(output_dir, exist_ok=True)\n",
    "\n",
    "    total_rows = len(df)\n",
    "    num_parts = (total_rows + lines_per_file - 1) // lines_per_file  # Calcula o número de partes\n",
    "\n",
    "    for i in range(num_parts):\n",
    "        start_row = i * lines_per_file\n",
    "        end_row = min(start_row + lines_per_file, total_rows)\n",
    "        part_df = df.iloc[start_row:end_row]\n",
    "        \n",
    "        # Salvando em CSV\n",
    "        csv_filename = os.path.join(output_dir, f\"{arquivo}_parte_{i+1}.csv\")\n",
    "        part_df.to_csv(csv_filename, index=False)\n",
    "\n",
    "    print(f\"{num_parts} arquivo(s) CSV criados na pasta '{output_dir}'.\")\n",
    "\n",
    "# Exemplo de uso\n",
    "if __name__ == \"__main__\":\n",
    "    df1 = pd.read_excel('Base_OPEA_TEN.xlsx')\n",
    "    df2 = pd.read_excel('Base_EcoAgro_TEN (1).xlsx')\n",
    "    data = [(\"Base XP - Opea\", df1), (\"Base XP - Ecoagro\", df2)]  # Lista de tuplas com nome da pasta e DataFrame\n",
    "\n",
    "    for arquivo, df in data:\n",
    "        lines_per_file = 500  # Número máximo de linhas por arquivo\n",
    "        split_and_save(df, lines_per_file, arquivo)\n"
   ]
  }
 ],
 "metadata": {
  "kernelspec": {
   "display_name": "Python 3 (ipykernel)",
   "language": "python",
   "name": "python3"
  },
  "language_info": {
   "codemirror_mode": {
    "name": "ipython",
    "version": 3
   },
   "file_extension": ".py",
   "mimetype": "text/x-python",
   "name": "python",
   "nbconvert_exporter": "python",
   "pygments_lexer": "ipython3",
   "version": "3.10.12"
  }
 },
 "nbformat": 4,
 "nbformat_minor": 5
}
